{
 "cells": [
  {
   "cell_type": "markdown",
   "id": "6304a8a9-97f9-4f2c-b7cf-47866c7dfc73",
   "metadata": {
    "tags": []
   },
   "source": [
    "# Data Science Tools and Ecosystem"
   ]
  },
  {
   "cell_type": "markdown",
   "id": "aea67f4e-9079-4276-8ed8-e717b671e4a1",
   "metadata": {},
   "source": [
    "In this notebook, Data Science Tools and Ecosystem are summarized."
   ]
  },
  {
   "cell_type": "markdown",
   "id": "3d42de95-8010-4360-82ba-f69bc9f7b4a1",
   "metadata": {},
   "source": [
    "**Objectives:**\n",
    "- popular languages\n",
    "- popular libraries\n",
    "- arithmetic\n",
    "- tools\n",
    "- expressions\n"
   ]
  },
  {
   "cell_type": "markdown",
   "id": "c96463e1-9c34-4a5a-b482-6230252c9902",
   "metadata": {
    "tags": []
   },
   "source": [
    "Some of the popular languages that Data Scientists use are:\n",
    "1. Python\n",
    "2. R\n",
    "3. SQL"
   ]
  },
  {
   "cell_type": "markdown",
   "id": "8dfdca54-4160-46d1-9d0e-d32ed4b8cd8e",
   "metadata": {
    "tags": []
   },
   "source": [
    "Some of the commonly used libraries used by Data Scientists include:\n",
    "1. Pandas\n",
    "2. Tensor Flow\n",
    "3. Keras"
   ]
  },
  {
   "cell_type": "markdown",
   "id": "ec2b42ba-7b8e-4a11-96f1-7cec1015cc59",
   "metadata": {
    "tags": []
   },
   "source": [
    "|Data Science Tools|\n",
    "|------------------|\n",
    "|Rstudio|\n",
    "|Apache Spark|\n",
    "|Apache Hadoop|"
   ]
  },
  {
   "cell_type": "markdown",
   "id": "dc3a19e2-0cee-4a0e-bcd4-013b9d59485c",
   "metadata": {},
   "source": [
    "### Below are a few examples of evaluating arithmetic expressions in Python"
   ]
  },
  {
   "cell_type": "code",
   "execution_count": 6,
   "id": "12c32745-8ae8-427f-ae6f-72aa3201da4d",
   "metadata": {
    "tags": []
   },
   "outputs": [
    {
     "data": {
      "text/plain": [
       "17"
      ]
     },
     "execution_count": 6,
     "metadata": {},
     "output_type": "execute_result"
    }
   ],
   "source": [
    "#This a simple arithmetic expression to mutiply then add integers\n",
    "(3*4)+5"
   ]
  },
  {
   "cell_type": "code",
   "execution_count": 7,
   "id": "ea67e257-6930-4286-9fd2-513ace2ce3f0",
   "metadata": {
    "tags": []
   },
   "outputs": [
    {
     "data": {
      "text/plain": [
       "3.3333333333333335"
      ]
     },
     "execution_count": 7,
     "metadata": {},
     "output_type": "execute_result"
    }
   ],
   "source": [
    "#This will convert 200 minutes to hours by diving by 60\n",
    "200/60"
   ]
  },
  {
   "cell_type": "markdown",
   "id": "d89160bf-a0dd-4df6-9a7e-54cb68de380d",
   "metadata": {},
   "source": [
    "## Author\n",
    "Bavesh "
   ]
  },
  {
   "cell_type": "code",
   "execution_count": null,
   "id": "573d4703-407f-4a07-8622-119c9b71b0ac",
   "metadata": {},
   "outputs": [],
   "source": []
  }
 ],
 "metadata": {
  "kernelspec": {
   "display_name": "Python",
   "language": "python",
   "name": "conda-env-python-py"
  },
  "language_info": {
   "codemirror_mode": {
    "name": "ipython",
    "version": 3
   },
   "file_extension": ".py",
   "mimetype": "text/x-python",
   "name": "python",
   "nbconvert_exporter": "python",
   "pygments_lexer": "ipython3",
   "version": "3.7.12"
  }
 },
 "nbformat": 4,
 "nbformat_minor": 5
}
